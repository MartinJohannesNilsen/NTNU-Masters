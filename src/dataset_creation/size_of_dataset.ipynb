{
 "cells": [
  {
   "cell_type": "code",
   "execution_count": 3,
   "metadata": {},
   "outputs": [],
   "source": [
    "import pandas as pd\n",
    "from csv import QUOTE_NONE\n",
    "import sys\n",
    "import os\n",
    "from pathlib import Path\n",
    "import csv\n",
    "from datetime import datetime\n",
    "util_path = str(Path(os.path.abspath(\"\")).parents[0] / \"experiments\" / \"utils\")\n",
    "sys.path.append(util_path)\n",
    "from word_emb_utils import tokenize_with_preprocessing_drop_len"
   ]
  },
  {
   "cell_type": "code",
   "execution_count": 4,
   "metadata": {},
   "outputs": [],
   "source": [
    "max_int = sys.maxsize\n",
    "while True:\n",
    "    # Decrease the value by factor 10 as long as the OverflowError occurs.\n",
    "    try:\n",
    "        csv.field_size_limit(max_int)\n",
    "        break\n",
    "    except OverflowError:\n",
    "        max_int = int(max_int/10)\n",
    "\n",
    "def make_datetime(date):\n",
    "        y, m, d = date.split(\"-\")\n",
    "        return datetime(int(y), int(m), int(d))"
   ]
  },
  {
   "cell_type": "code",
   "execution_count": 11,
   "metadata": {},
   "outputs": [],
   "source": [
    "data_path = Path(os.path.abspath(\"\")).parents[1] / \"data\" / \"processed_data\""
   ]
  },
  {
   "cell_type": "code",
   "execution_count": 12,
   "metadata": {},
   "outputs": [],
   "source": [
    "df  = pd.read_csv(str(data_path / \"all_labeled.csv\"), sep=\"‎\", quoting=QUOTE_NONE, engine=\"python\")"
   ]
  },
  {
   "cell_type": "code",
   "execution_count": 13,
   "metadata": {},
   "outputs": [
    {
     "name": "stderr",
     "output_type": "stream",
     "text": [
      "<ipython-input-13-12a0e9e46da6>:4: SettingWithCopyWarning: \n",
      "A value is trying to be set on a copy of a slice from a DataFrame.\n",
      "Try using .loc[row_indexer,col_indexer] = value instead\n",
      "\n",
      "See the caveats in the documentation: https://pandas.pydata.org/pandas-docs/stable/user_guide/indexing.html#returning-a-view-versus-a-copy\n",
      "  stair_twitter_df[\"date\"] = stair_twitter_df[\"date\"].map(lambda a: make_datetime(a))\n"
     ]
    }
   ],
   "source": [
    "stair_twitter_df = df[df[\"name\"] == \"stair twitter archive\"]\n",
    "length_of_df = len(stair_twitter_df.index)\n",
    "\n",
    "stair_twitter_df[\"date\"] = stair_twitter_df[\"date\"].map(lambda a: make_datetime(a))\n",
    "stair_twitter_drop_df = stair_twitter_df[stair_twitter_df[\"date\"] < datetime(2016, 8, 13)]"
   ]
  },
  {
   "cell_type": "code",
   "execution_count": 14,
   "metadata": {},
   "outputs": [],
   "source": [
    "df = df.drop(stair_twitter_drop_df.index, axis=0)\n",
    "\n",
    "shooter_df = df[df[\"label\"] == 1]\n",
    "non_shooter_df = df[df[\"label\"] == 0]"
   ]
  },
  {
   "cell_type": "code",
   "execution_count": 15,
   "metadata": {},
   "outputs": [
    {
     "name": "stdout",
     "output_type": "stream",
     "text": [
      "len whole dataset: 19170\n",
      "len shooter set: 3028\n",
      "len non-shooter set: 16142\n",
      "ratio shooter/non_shooter: 0.1875851815140627\n"
     ]
    }
   ],
   "source": [
    "print(f\"len whole dataset: {len(df.index)}\")\n",
    "print(f\"len shooter set: {len(shooter_df.index)}\")\n",
    "print(f\"len non-shooter set: {len(non_shooter_df.index)}\")\n",
    "print(f\"ratio shooter/non_shooter: {len(shooter_df.index)/len(non_shooter_df.index)}\")"
   ]
  },
  {
   "cell_type": "code",
   "execution_count": 16,
   "metadata": {},
   "outputs": [
    {
     "data": {
      "image/png": "[encoded data removed]",
      "text/plain": [
       "<Figure size 432x288 with 1 Axes>"
      ]
     },
     "metadata": {
      "needs_background": "light"
     },
     "output_type": "display_data"
    }
   ],
   "source": [
    "from matplotlib import pyplot as plt\n",
    "\n",
    "plt.bar([\"non-shooter\", \"shooter\"], [len(non_shooter_df.index), len(shooter_df.index)])\n",
    "plt.title(\"Distribution of texts. No max length\")\n",
    "plt.show()"
   ]
  },
  {
   "cell_type": "code",
   "execution_count": 19,
   "metadata": {},
   "outputs": [],
   "source": [
    "data_path = Path(os.path.abspath(\"\")).parents[1] / \"data\" / \"processed_data\"\n",
    "preprocessed_path = Path(os.path.abspath(\"\")).parents[1] / \"data\" / \"processed_data\" / \"train_test\" / \"preprocessed_glove\"\n",
    "\n",
    "train_512_df = pd.read_csv(str(preprocessed_path / \"train_sliced_stair_twitter_512_preprocessed.csv\"), sep=\"‎\", quoting=QUOTE_NONE, engine=\"python\")\n",
    "test_512_df = pd.read_csv(str(preprocessed_path / \"test_sliced_stair_twitter_512_preprocessed.csv\"), sep=\"‎\", quoting=QUOTE_NONE, engine=\"python\")\n",
    "val_512_df = pd.read_csv(str(preprocessed_path / \"val_sliced_stair_twitter_512_preprocessed.csv\"), sep=\"‎\", quoting=QUOTE_NONE, engine=\"python\")"
   ]
  },
  {
   "cell_type": "code",
   "execution_count": 20,
   "metadata": {},
   "outputs": [],
   "source": [
    "train_256_df = pd.read_csv(str(preprocessed_path / \"train_sliced_stair_twitter_256_preprocessed.csv\"), sep=\"‎\", quoting=QUOTE_NONE, engine=\"python\")\n",
    "test_256_df = pd.read_csv(str(preprocessed_path / \"test_sliced_stair_twitter_256_preprocessed.csv\"), sep=\"‎\", quoting=QUOTE_NONE, engine=\"python\")\n",
    "val_256_df = pd.read_csv(str(preprocessed_path / \"val_sliced_stair_twitter_256_preprocessed.csv\"), sep=\"‎\", quoting=QUOTE_NONE, engine=\"python\")"
   ]
  },
  {
   "cell_type": "code",
   "execution_count": 21,
   "metadata": {},
   "outputs": [],
   "source": [
    "all_512 = pd.concat([train_512_df, test_512_df, val_512_df], axis=0)\n",
    "all_256 = pd.concat([train_256_df, test_256_df, val_256_df], axis=0)"
   ]
  },
  {
   "cell_type": "code",
   "execution_count": 22,
   "metadata": {},
   "outputs": [
    {
     "name": "stdout",
     "output_type": "stream",
     "text": [
      "all 512 length: 21299\n",
      "all 256 length: 24775\n"
     ]
    }
   ],
   "source": [
    "print(f\"all 512 length: {len(all_512.index)}\")\n",
    "print(f\"all 256 length: {len(all_256.index)}\")"
   ]
  },
  {
   "cell_type": "code",
   "execution_count": 23,
   "metadata": {},
   "outputs": [],
   "source": [
    "shooter_512 = all_512[all_512[\"label\"] == 1]\n",
    "non_shooter_512 = all_512[all_512[\"label\"] == 0]"
   ]
  },
  {
   "cell_type": "code",
   "execution_count": 24,
   "metadata": {},
   "outputs": [
    {
     "name": "stdout",
     "output_type": "stream",
     "text": [
      "shooter 512 length: 3313\n",
      "non-shooter 512 length: 17986\n",
      "ratio shooter/non_shooter: 0.1841988213054598\n"
     ]
    }
   ],
   "source": [
    "print(f\"shooter 512 length: {len(shooter_512.index)}\")\n",
    "print(f\"non-shooter 512 length: {len(non_shooter_512.index)}\")\n",
    "print(f\"ratio shooter/non_shooter: {len(shooter_512.index)/len(non_shooter_512.index)}\")"
   ]
  },
  {
   "cell_type": "code",
   "execution_count": 25,
   "metadata": {},
   "outputs": [
    {
     "data": {
      "image/png": "[encoded data removed]",
      "text/plain": [
       "<Figure size 432x288 with 1 Axes>"
      ]
     },
     "metadata": {
      "needs_background": "light"
     },
     "output_type": "display_data"
    }
   ],
   "source": [
    "plt.bar([\"non-shooter\", \"shooter\"], [len(non_shooter_512.index), len(shooter_512.index)])\n",
    "plt.title(\"Distribution of texts. Max length = 512\")\n",
    "plt.show()"
   ]
  },
  {
   "cell_type": "code",
   "execution_count": 26,
   "metadata": {},
   "outputs": [],
   "source": [
    "shooter_256 = all_256[all_256[\"label\"] == 1]\n",
    "non_shooter_256 = all_256[all_256[\"label\"] == 0]"
   ]
  },
  {
   "cell_type": "code",
   "execution_count": 27,
   "metadata": {},
   "outputs": [
    {
     "name": "stdout",
     "output_type": "stream",
     "text": [
      "shooter 256 length: 3681\n",
      "non-shooter 256 length: 21094\n",
      "ratio shooter/non_shooter: 0.1745045984640182\n"
     ]
    }
   ],
   "source": [
    "print(f\"shooter 256 length: {len(shooter_256.index)}\")\n",
    "print(f\"non-shooter 256 length: {len(non_shooter_256.index)}\")\n",
    "print(f\"ratio shooter/non_shooter: {len(shooter_256.index)/len(non_shooter_256.index)}\")"
   ]
  },
  {
   "cell_type": "code",
   "execution_count": 28,
   "metadata": {},
   "outputs": [
    {
     "data": {
      "image/png": "[encoded data removed]",
      "text/plain": [
       "<Figure size 432x288 with 1 Axes>"
      ]
     },
     "metadata": {
      "needs_background": "light"
     },
     "output_type": "display_data"
    }
   ],
   "source": [
    "plt.bar([\"non-shooter\", \"shooter\"], [len(non_shooter_256.index), len(shooter_256.index)])\n",
    "plt.title(\"Distribution of texts. Max length = 256\")\n",
    "plt.show()"
   ]
  },
  {
   "cell_type": "code",
   "execution_count": 29,
   "metadata": {},
   "outputs": [],
   "source": [
    "avg_length = df[\"text\"].astype(\"U\").apply(len).mean()\n",
    "avg_length_512 = all_512[\"text\"].astype(\"U\").apply(len).mean()\n",
    "avg_length_256 = all_256[\"text\"].astype(\"U\").apply(len).mean()\n",
    "\n",
    "median_length = df[\"text\"].astype(\"U\").apply(len).median()\n",
    "median_length_512 = all_512[\"text\"].astype(\"U\").apply(len).median()\n",
    "median_length_256 = all_256[\"text\"].astype(\"U\").apply(len).median()"
   ]
  },
  {
   "cell_type": "code",
   "execution_count": 30,
   "metadata": {},
   "outputs": [
    {
     "name": "stdout",
     "output_type": "stream",
     "text": [
      "avg len no max len: 556.9576943140323\n",
      "avg len 512: 302.1450302831119\n",
      "avg len 256: 259.04335015136223\n",
      "median len no max len: 80.0\n",
      "median len 512: 56.0\n",
      "median len 256: 70.0\n"
     ]
    }
   ],
   "source": [
    "print(f\"avg len no max len: {avg_length}\")\n",
    "print(f\"avg len 512: {avg_length_512}\")\n",
    "print(f\"avg len 256: {avg_length_256}\")\n",
    "\n",
    "print(f\"median len no max len: {median_length}\")\n",
    "print(f\"median len 512: {median_length_512}\")\n",
    "print(f\"median len 256: {median_length_256}\")"
   ]
  }
 ],
 "metadata": {
  "kernelspec": {
   "display_name": "Python 3",
   "language": "python",
   "name": "python3"
  },
  "language_info": {
   "codemirror_mode": {
    "name": "ipython",
    "version": 3
   },
   "file_extension": ".py",
   "mimetype": "text/x-python",
   "name": "python",
   "nbconvert_exporter": "python",
   "pygments_lexer": "ipython3",
   "version": "3.8.10"
  },
  "orig_nbformat": 4
 },
 "nbformat": 4,
 "nbformat_minor": 2
}
