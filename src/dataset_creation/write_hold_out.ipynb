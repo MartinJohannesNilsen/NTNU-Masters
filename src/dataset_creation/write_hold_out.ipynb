{
 "cells": [
  {
   "cell_type": "code",
   "execution_count": 1,
   "metadata": {},
   "outputs": [],
   "source": [
    "from csv import QUOTE_NONE\n",
    "import os\n",
    "from pathlib import Path\n",
    "import pandas as pd\n",
    "import csv\n",
    "csv.field_size_limit(int(1e9))\n",
    "\n",
    "# Small convenience script to make hold out set\n",
    "\n",
    "path = Path(os.path.abspath(\"\")).parents[1] / \"data\" / \"processed_data\" / \"school_shooters_labeled.csv\"\n",
    "df = pd.read_csv(path, sep=\"‎\", quoting=QUOTE_NONE, engine=\"python\")\n",
    "filtered_df = df[df['name'].isin([\"Michael Slobodian\", \"Dorothy Dutiel\", \"Chris Harper Mercer\"])]\n",
    "\n",
    "out_path = Path(os.path.abspath(\"\")).parents[0] / \"dataset_creation\" / \"data\" / \"train_test\" / \"shooter_hold_out.csv\"\n",
    "filtered_df.to_csv(out_path, sep=\"‎\", header=True, index=False, date_format=\"%Y-%m-%d\")"
   ]
  }
 ],
 "metadata": {
  "kernelspec": {
   "display_name": "Python 3",
   "language": "python",
   "name": "python3"
  },
  "language_info": {
   "codemirror_mode": {
    "name": "ipython",
    "version": 3
   },
   "file_extension": ".py",
   "mimetype": "text/x-python",
   "name": "python",
   "nbconvert_exporter": "python",
   "pygments_lexer": "ipython3",
   "version": "3.6.8"
  },
  "orig_nbformat": 4
 },
 "nbformat": 4,
 "nbformat_minor": 2
}
